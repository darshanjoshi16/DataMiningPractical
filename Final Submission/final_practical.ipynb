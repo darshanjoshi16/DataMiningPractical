{
  "nbformat": 4,
  "nbformat_minor": 0,
  "metadata": {
    "colab": {
      "name": "final_practical.ipynb",
      "provenance": [],
      "collapsed_sections": [],
      "authorship_tag": "ABX9TyNsNwbR+9rWeMuj0IZzkMCO",
      "include_colab_link": true
    },
    "kernelspec": {
      "name": "python3",
      "display_name": "Python 3"
    },
    "language_info": {
      "name": "python"
    }
  },
  "cells": [
    {
      "cell_type": "markdown",
      "metadata": {
        "id": "view-in-github",
        "colab_type": "text"
      },
      "source": [
        "<a href=\"https://colab.research.google.com/github/darshanjoshi16/DataMiningPractical/blob/main/Final%20Submission/final_practical.ipynb\" target=\"_parent\"><img src=\"https://colab.research.google.com/assets/colab-badge.svg\" alt=\"Open In Colab\"/></a>"
      ]
    },
    {
      "cell_type": "markdown",
      "source": [
        "**Final Practical Statement:**\n",
        "\n",
        "Using Apriori algorithm, for the following transactional\n",
        "dataset, generate large itemset uptil size = 2 (Let min sup =\n",
        "60%):\n"
      ],
      "metadata": {
        "id": "aodw26fNKdLy"
      }
    },
    {
      "cell_type": "markdown",
      "source": [
        "Section 1: Seperating the Items from the transaction set"
      ],
      "metadata": {
        "id": "CgC6tDNoKpf6"
      }
    },
    {
      "cell_type": "code",
      "execution_count": null,
      "metadata": {
        "colab": {
          "base_uri": "https://localhost:8080/"
        },
        "id": "v2jJisHY9j6B",
        "outputId": "7cdcba78-2687-4d11-b245-029c31ba45fd"
      },
      "outputs": [
        {
          "output_type": "stream",
          "name": "stdout",
          "text": [
            "['A', 'C', 'D', 'E', 'I', 'K', 'M', 'N', 'O', 'U', 'Y']\n"
          ]
        }
      ],
      "source": [
        "#our transaction dataset is as per given\n",
        "data = [\n",
        "        ['T100',['M','O','N','K','E','Y']],\n",
        "        ['T200',['D','O','N','K','E','Y']],\n",
        "        ['T300',['M','A','K','E']],\n",
        "        ['T400',['M','U','C','K','Y']],\n",
        "        ['T500',['C','O','O','K','I','E']],\n",
        "        ]\n",
        "#creating the list which will store the seperate items which is available in the transaction dataset\n",
        "init = []\n",
        "\n",
        "#traversing the whole transaction dataset and applying the logic for seperation of items and appending the items in list\n",
        "for i in data:\n",
        "    for q in i[1]:\n",
        "        if(q not in init):\n",
        "            init.append(q)\n",
        "\n",
        "#sorting the list\n",
        "init = sorted(init)\n",
        "\n",
        "#printing the list\n",
        "print(init)\n",
        "\n",
        "\n",
        "\n"
      ]
    },
    {
      "cell_type": "markdown",
      "source": [
        "Section 2: Taking the minimum support value from the user"
      ],
      "metadata": {
        "id": "MFL4puvhKwE6"
      }
    },
    {
      "cell_type": "code",
      "source": [
        "#taking the minimum support 60% wouldn't be having so much items so we are taking 30% for demonstration\n",
        "sp =0.6\n",
        "s = 0.5 * int(sp*len(init))\n",
        "\n",
        "#printing the minimum item as per the minimum support\n",
        "print(\"minimum support items should be:\",s)"
      ],
      "metadata": {
        "colab": {
          "base_uri": "https://localhost:8080/"
        },
        "id": "nPamhd0-EFEs",
        "outputId": "ad3dc1ee-2259-4154-8862-de7bcfa5d2db"
      },
      "execution_count": null,
      "outputs": [
        {
          "output_type": "stream",
          "name": "stdout",
          "text": [
            "minimum support items should be: 3.0\n"
          ]
        }
      ]
    },
    {
      "cell_type": "markdown",
      "source": [
        "Section:3 Applying the Logic for creating the candidate and frequent itemset"
      ],
      "metadata": {
        "id": "vY9gWeeYK2sT"
      }
    },
    {
      "cell_type": "code",
      "source": [
        "#importing the counter from the collection package\n",
        "from collections import Counter\n",
        "\n",
        "#initializing the counter function for candidate dataset C1\n",
        "c = Counter()\n",
        "\n",
        "#creating the first candidate itemset C1 by applying the \"IN\" logic\n",
        "for i in init:\n",
        "    for d in data:\n",
        "        if(i in d[1]):\n",
        "            c[i]+=1\n",
        "print(\"C1:\")\n",
        "for i in c:\n",
        "    print(str([i])+\": \"+str(c[i]))\n",
        "print()\n",
        "\n",
        "#creating the counter method for frequent itemset L1 \n",
        "#here Frozenset object will build the immutable collection of unordered unique collection\n",
        "l = Counter()\n",
        "\n",
        "#creating the first frequent dataset using the \"IN\" logic and frozenset object\n",
        "for i in c:\n",
        "    if(c[i] >= s):\n",
        "        l[frozenset([i])]+=c[i]\n",
        "print(\"L1:\")\n",
        "for i in l:\n",
        "    print(str(list(i))+\": \"+str(l[i]))\n",
        "print()\n",
        "\n",
        "#defining the variables\n",
        "pl = l\n",
        "pos = 1\n",
        "\n",
        "#we will generate the itemset for K>1 using the list traversal in which will consider the candidate dataset C2 and frequent itemset\n",
        "for count in range (2,3):\n",
        "    #creating the set which will store the value without duplication\n",
        "    nc = set()\n",
        "    \n",
        "    #creating the temporary list which will take up the variable l as the list\n",
        "    temp = list(l)\n",
        "   \n",
        "   #logic for the appending the candidate itemset C2\n",
        "    for i in range(0,len(temp)):\n",
        "        for j in range(i+1,len(temp)):\n",
        "            t = temp[i].union(temp[j])\n",
        "            if(len(t) == count):\n",
        "                nc.add(temp[i].union(temp[j]))\n",
        "\n",
        "    #converting the set into the list\n",
        "    nc = list(nc)\n",
        "  \n",
        "   #it will count the items and append into candidate itemset C2\n",
        "    c = Counter()\n",
        "    for i in nc:\n",
        "        c[i] = 0\n",
        "        for q in data:\n",
        "            temp = set(q[1])\n",
        "            if(i.issubset(temp)):\n",
        "                c[i]+=1\n",
        "    print(\"C\"+str(count)+\":\")\n",
        "    for i in c:\n",
        "        print(str(list(i))+\": \"+str(c[i]))\n",
        "    print()\n",
        "\n",
        "\n",
        "#it will count the items and append into candidate itemset L2\n",
        "    l = Counter()\n",
        "    for i in c:\n",
        "        if(c[i] >= s):\n",
        "            l[i]+=c[i]\n",
        "    print(\"L\"+str(count)+\":\")\n",
        "    for i in l:\n",
        "        print(str(list(i))+\": \"+str(l[i]))\n",
        "    print()\n",
        "    if(len(l) == 0):\n",
        "        break\n",
        "    pl = l\n",
        "    pos = count\n"
      ],
      "metadata": {
        "colab": {
          "base_uri": "https://localhost:8080/"
        },
        "id": "7gAE1hlcE1Qc",
        "outputId": "2a796cce-3af9-422b-aff4-b5dc87a0f0e0"
      },
      "execution_count": null,
      "outputs": [
        {
          "output_type": "stream",
          "name": "stdout",
          "text": [
            "C1:\n",
            "['A']: 1\n",
            "['C']: 2\n",
            "['D']: 1\n",
            "['E']: 4\n",
            "['I']: 1\n",
            "['K']: 5\n",
            "['M']: 3\n",
            "['N']: 2\n",
            "['O']: 3\n",
            "['U']: 1\n",
            "['Y']: 3\n",
            "\n",
            "L1:\n",
            "['E']: 4\n",
            "['K']: 5\n",
            "['M']: 3\n",
            "['O']: 3\n",
            "['Y']: 3\n",
            "\n",
            "C2:\n",
            "['O', 'E']: 3\n",
            "['K', 'M']: 3\n",
            "['K', 'E']: 4\n",
            "['O', 'M']: 1\n",
            "['O', 'Y']: 2\n",
            "['K', 'O']: 3\n",
            "['Y', 'M']: 2\n",
            "['E', 'M']: 2\n",
            "['K', 'Y']: 3\n",
            "['E', 'Y']: 2\n",
            "\n",
            "L2:\n",
            "['O', 'E']: 3\n",
            "['K', 'M']: 3\n",
            "['K', 'E']: 4\n",
            "['K', 'O']: 3\n",
            "['K', 'Y']: 3\n",
            "\n"
          ]
        }
      ]
    }
  ]
}