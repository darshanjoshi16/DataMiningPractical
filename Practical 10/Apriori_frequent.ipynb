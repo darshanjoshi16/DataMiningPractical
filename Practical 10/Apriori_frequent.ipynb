#importing the libraries
#Mlxtend (machine learning extensions) is a Python library of useful tools for the day-to-day data science tasks.
#Transaction Encoder Encodes database transaction data in form of a Python list of lists into a NumPy array.
import pandas as pd
from mlxtend.preprocessing import TransactionEncoder
from mlxtend.frequent_patterns import apriori

#for trainning purpose or temporary purpose
dataset = [['Milk', 'Onion', 'Nutmeg', 'Kidney Beans', 'Eggs', 'Yogurt'],
           ['Dill', 'Onion', 'Nutmeg', 'Kidney Beans', 'Eggs', 'Yogurt'],
           ['Milk', 'Apple', 'Kidney Beans', 'Eggs'],
           ['Milk', 'Unicorn', 'Corn', 'Kidney Beans', 'Yogurt'],
           ['Corn', 'Onion', 'Onion', 'Kidney Beans', 'Ice cream', 'Eggs']]

#initializing the object of transaction encoder
trans_en = TransactionEncoder()

#encoding the data into the python list of lists  numpy array
trans_ary = trans_en.fit(dataset).transform(dataset)
df = pd.DataFrame(trans_ary, columns=trans_en.columns_)

#we should return the frequent pattern with minimum support as per required
apriori(df, min_support=0.6,use_colnames=True)
