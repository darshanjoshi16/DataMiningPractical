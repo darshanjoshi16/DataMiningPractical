{
  "cells": [
    {
      "cell_type": "markdown",
      "metadata": {
        "id": "8p_R0v0pao-4"
      },
      "source": [
        "# **Practical 4:**\n",
        "Pre-processing of Noisy Data :\n",
        "\n",
        "Consider the following values for age attribute of total 21 records :\n",
        "13, 52, 15, 16, 45, 19, 20, 21, 22, 25, 30, 33, 35, 36, 40, 46, 70, 16, 25, 22, 33\n",
        "\n",
        "Implement smoothing by bin means to smooth these data, \n",
        "\n",
        "using both \n",
        "\n",
        "(1) equal width (or distance) binning\n",
        "\n",
        "(2) equal depth (or frequency) binning.\n",
        "\n"
      ]
    },
    {
      "cell_type": "code",
      "execution_count": 18,
      "metadata": {
        "colab": {
          "base_uri": "https://localhost:8080/"
        },
        "id": "8thS-WIMa4zf",
        "outputId": "dc3179fe-ad59-4d2c-a766-61e32d7df50a"
      },
      "outputs": [
        {
          "output_type": "stream",
          "name": "stdout",
          "text": [
            "======================Handling the Noisy Data===============================\n",
            "\n",
            "====================Data Smoothing by Binning=============================\n",
            "Enter the data you want to smooth (seperate with comma) : \n",
            "13, 52, 15, 16, 45, 19, 20, 21, 22, 25, 30, 33, 35, 36, 40, 46, 70, 16, 25, 22, 33\n",
            "[13.0, 15.0, 16.0, 16.0, 19.0, 20.0, 21.0, 22.0, 22.0, 25.0, 25.0, 30.0, 33.0, 33.0, 35.0, 36.0, 40.0, 45.0, 46.0, 52.0, 70.0]\n",
            "\n",
            " ================================Binning Method Choices========================\n",
            "\n",
            "1. Equal Width or distance binning\n",
            "2. Equal depth or frequency binning\n",
            "\n",
            "Enter the choice for method of binning : 2\n",
            "Enter Width of the bin : 6\n",
            "4 bins\n",
            "Result after performing the smoothing binning method:\n",
            "[[16.5, 16.5, 16.5, 16.5, 16.5, 16.5], [24.17, 24.17, 24.17, 24.17, 24.17, 24.17], [37.0, 37.0, 37.0, 37.0, 37.0, 37.0], [56.0, 56.0, 56.0, 56.0, 56.0, 56.0]]\n"
          ]
        }
      ],
      "source": [
        "import numpy as np\n",
        "import math\n",
        "\n",
        "def equi_width(arr, no_of_bins):\n",
        "        \n",
        "        s = arr[0] \n",
        "        e = arr[-1] \n",
        "        bins_ranges = np.linspace(s, e, no_of_bins + 1) \n",
        "        print('boundries of bins :', bins_ranges) \n",
        "        bins = [list() for i in range(no_of_bins)]\n",
        "\n",
        "        current_bin = 0 \n",
        "        end = 1\n",
        "\n",
        "        for ele in arr:\n",
        "            \n",
        "            if ele <= bins_ranges[end]:\n",
        "                 bins[current_bin].append(ele)\n",
        "            \n",
        "            elif current_bin < no_of_bins:\n",
        "                while ele > bins_ranges[end]:\n",
        "                    current_bin += 1 \n",
        "                    end += 1\n",
        "                bins[current_bin].append(ele)\n",
        "\n",
        "            for i in range(no_of_bins):\n",
        "                if len(bins[i]):\n",
        "                    bins[i] = list(np.ones(len(bins[i])) * round(np.array(bins[i]).mean(), 2))\n",
        "\n",
        "        \n",
        "        return bins\n",
        "\n",
        "def equi_freq(arr, freq):\n",
        "        \n",
        "        length = len(arr) \n",
        "        number_of_bins = math.ceil(length / freq) \n",
        "        print(number_of_bins, 'bins') \n",
        "        bins = list()\n",
        "\n",
        "        for x in range(number_of_bins): \n",
        "            bins.append(arr[x * freq : (x+1) * freq])\n",
        "            \n",
        "        for i in range(number_of_bins): \n",
        "            bins[i] = list(np.ones(freq) * round(np.array(bins[i]).mean(), 2))\n",
        "\n",
        "        return bins\n",
        "\n",
        "print(\"======================Handling the Noisy Data===============================\")\n",
        "print(\"\\n====================Data Smoothing by Binning=============================\")\n",
        "\n",
        "print('Enter the data you want to smooth (seperate with comma) : ') \n",
        "arr = [float(x) for x in input().split(',')] \n",
        "arr.sort()\n",
        "\n",
        "print(arr)\n",
        "print(\"\\n ================================Binning Method Choices========================\")\n",
        "print('\\n1. Equal Width or distance binning') \n",
        "print('2. Equal depth or frequency binning\\n')\n",
        "\n",
        "choice = int(input('Enter the choice for method of binning : '))\n",
        "\n",
        "if choice == 1: \n",
        "    no_of_bins = int(input('Enter Number of bins : '))\n",
        "    bins = equi_width(arr, no_of_bins)\n",
        "\n",
        "elif choice == 2: \n",
        "    width_of_bins = int(input('Enter Width of the bin : '))\n",
        "    bins = equi_freq(arr, width_of_bins)\n",
        "\n",
        "print(\"Result after performing the smoothing binning method:\")\n",
        "print(bins)\n",
        "\n",
        "\n",
        "\n"
      ]
    }
  ],
  "metadata": {
    "colab": {
      "collapsed_sections": [],
      "name": "DM_Practical_4",
      "provenance": []
    },
    "kernelspec": {
      "display_name": "Python 3",
      "name": "python3"
    },
    "language_info": {
      "name": "python"
    }
  },
  "nbformat": 4,
  "nbformat_minor": 0
}